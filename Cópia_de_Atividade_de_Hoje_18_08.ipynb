{
  "nbformat": 4,
  "nbformat_minor": 0,
  "metadata": {
    "colab": {
      "provenance": [],
      "include_colab_link": true
    },
    "kernelspec": {
      "name": "python3",
      "display_name": "Python 3"
    }
  },
  "cells": [
    {
      "cell_type": "markdown",
      "metadata": {
        "id": "view-in-github",
        "colab_type": "text"
      },
      "source": [
        "<a href=\"https://colab.research.google.com/github/RamsesMartins/BlogEsportes/blob/main/C%C3%B3pia_de_Atividade_de_Hoje_18_08.ipynb\" target=\"_parent\"><img src=\"https://colab.research.google.com/assets/colab-badge.svg\" alt=\"Open In Colab\"/></a>"
      ]
    },
    {
      "cell_type": "markdown",
      "source": [
        "<html>\n",
        "  <body>\n",
        "    <header></header>\n",
        "        <CENTER>\n",
        "          <img src=\"https://www.uvv.br/wp-content/themes/uvvBr/templates/assets//img/logouvv.svg\" alt=\"UVV-LOGO\" style = width=\"10px\"; height=\"100px\">\n",
        "        </CENTER>\n",
        "        <h1 style=\"font-size:1vw\">\n",
        "        <CENTER><b>LABORATÓRIO DE PROGRAMAÇÃO</b></CENTER>\n",
        "        <CENTER><b>ESTRUTURA DE SELEÇÃO</b></CENTER>\n",
        "  </body>\n",
        "</html>"
      ],
      "metadata": {
        "id": "Di_F4BZwwkWC"
      }
    },
    {
      "cell_type": "markdown",
      "source": [
        "**NOME:** Ramsés de Oliveira Martins"
      ],
      "metadata": {
        "id": "J-g8kWFyihx7"
      }
    },
    {
      "cell_type": "markdown",
      "source": [
        "SEU COLAB: [link]('https://colab.research.google.com/drive/12hWFmkV-TZ8nPOrdlCM5qRFaWaJa3p6w?usp=sharing')"
      ],
      "metadata": {
        "id": "kL1MGeH4JHfA"
      }
    },
    {
      "cell_type": "markdown",
      "source": [
        "#Questão 9:"
      ],
      "metadata": {
        "id": "v8h4UXtHJ61H"
      }
    },
    {
      "cell_type": "code",
      "source": [
        "def escolherMoeda():\n",
        "    global opcao\n",
        "    try:\n",
        "        print(\"\\n*******************\\n|ESCOLHA UMA MOEDA|\\n-------------------\")\n",
        "        print(\"| 1 - Real        |\")\n",
        "        print(\"| 2 - Dólar       |\")\n",
        "        print(\"| 3 - Libra       |\")\n",
        "        print(\"-------------------\")\n",
        "        opcao = int(input(\"Valor da moeda desejada: \"))\n",
        "        if (opcao >= 1 and opcao <=3):\n",
        "            #Usuário pode prosseguir\n",
        "            return False\n",
        "        else:\n",
        "            print(\"Digite uma opção válida\")\n",
        "            return True\n",
        "\n",
        "    except:\n",
        "        print(\"Erro ao definir moeda, tente novamente!\\n\")\n",
        "        return True\n",
        "\n",
        "def escolherConversao():\n",
        "    global conversao\n",
        "    try:\n",
        "        print(\"\\n*********************\\n|ESCOLHA OUTRA MOEDA|\\n---------------------\")\n",
        "        print(\"| 1 - Real          |\")\n",
        "        print(\"| 2 - Dólar         |\")\n",
        "        print(\"| 3 - Libra         |\")\n",
        "        print(\"---------------------\")\n",
        "        conversao = int(input(\"Valor da moeda desejada: \"))\n",
        "        if (conversao >= 1 and conversao <=3 and conversao != opcao):\n",
        "            #Usuário pode prosseguir\n",
        "            return False\n",
        "        else:\n",
        "            print(\"Digite uma opção válida\")\n",
        "            return True\n",
        "\n",
        "    except Exception as err:\n",
        "        print(err)\n",
        "        print(\"Erro ao definir moeda, tente novamente!\")\n",
        "        return True\n",
        "\n",
        "while(escolherMoeda() == True):\n",
        "      escolherMoeda()\n",
        "\n",
        "while(escolherConversao() == True):\n",
        "      escolherConversao\n",
        "\n",
        "try:\n",
        "    global valor\n",
        "    valor = float(input('\\n\\nDigite o valor a ser convertido: '))\n",
        "    match opcao:\n",
        "        case 1:\n",
        "            if conversao == 2:\n",
        "                print(f\"Resultado: {valor/4.97}\")\n",
        "            elif conversao == 3:\n",
        "                print(f\"Resultado: {valor/5.4}\")\n",
        "        case 2:\n",
        "            if conversao == 1:\n",
        "                print(f\"Resultado: {valor*4.97}\")\n",
        "            elif conversao == 3:\n",
        "                print(f\"Resultado: {valor*1.09}\")\n",
        "        case 3:\n",
        "            if conversao == 2:\n",
        "                print(f\"Resultado: {valor/1.09}\")\n",
        "            elif conversao == 1:\n",
        "                print(f\"Resultado: {valor/5.4}\")\n",
        "\n",
        "except:\n",
        "    print(\"Digite o valor corretamente\")"
      ],
      "metadata": {
        "id": "LQnIhV_oHsQX",
        "colab": {
          "base_uri": "https://localhost:8080/",
          "height": 0
        },
        "outputId": "017a6976-1f19-485d-aee4-66da55ae9e0b"
      },
      "execution_count": 5,
      "outputs": [
        {
          "output_type": "stream",
          "name": "stdout",
          "text": [
            "\n",
            "*******************\n",
            "|ESCOLHA UMA MOEDA|\n",
            "-------------------\n",
            "| 1 - Real        |\n",
            "| 2 - Dólar       |\n",
            "| 3 - Libra       |\n",
            "-------------------\n",
            "Valor da moeda desejada: 1\n",
            "\n",
            "*********************\n",
            "|ESCOLHA OUTRA MOEDA|\n",
            "---------------------\n",
            "| 1 - Real          |\n",
            "| 2 - Dólar         |\n",
            "| 3 - Libra         |\n",
            "---------------------\n",
            "Valor da moeda desejada: 2\n",
            "\n",
            "\n",
            "Digite o valor a ser convertido: 1\n",
            "0 0\n"
          ]
        }
      ]
    },
    {
      "cell_type": "markdown",
      "source": [
        "#Questão 2:"
      ],
      "metadata": {
        "id": "3DDI-hR6Gu3G"
      }
    },
    {
      "cell_type": "code",
      "source": [],
      "metadata": {
        "id": "L_QQ1oBXGvBI"
      },
      "execution_count": null,
      "outputs": []
    },
    {
      "cell_type": "markdown",
      "source": [
        "#Questão 3:"
      ],
      "metadata": {
        "id": "iuxVsdsGGvMf"
      }
    },
    {
      "cell_type": "code",
      "source": [],
      "metadata": {
        "id": "tyD9byGuGvVF"
      },
      "execution_count": null,
      "outputs": []
    },
    {
      "cell_type": "markdown",
      "source": [
        "# PARA ENTREGAR: Converter seu IPYNB para PDF:"
      ],
      "metadata": {
        "id": "i6wi5faQi4h4"
      }
    },
    {
      "cell_type": "code",
      "source": [
        "%%shell\n",
        "jupyter nbconvert --to html /content/out.ipynb"
      ],
      "metadata": {
        "id": "bvuR-9CWjAkG",
        "colab": {
          "base_uri": "https://localhost:8080/"
        },
        "outputId": "cb95b2d3-7937-4893-c9f5-0d217752f0d6"
      },
      "execution_count": null,
      "outputs": [
        {
          "output_type": "stream",
          "name": "stdout",
          "text": [
            "[NbConvertApp] Converting notebook /content/out.ipynb to html\n",
            "[NbConvertApp] Writing 588156 bytes to /content/out.html\n"
          ]
        },
        {
          "output_type": "execute_result",
          "data": {
            "text/plain": []
          },
          "metadata": {},
          "execution_count": 4
        }
      ]
    }
  ]
}